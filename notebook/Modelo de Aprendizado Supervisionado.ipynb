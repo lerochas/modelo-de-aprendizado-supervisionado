{
 "cells": [
  {
   "cell_type": "markdown",
   "metadata": {},
   "source": [
    "<img src=\"http://sonetodigital.com.br/adm/wp-content/uploads/2018/12/logo-fiap.png\" width=\"150\" align=\"left\"/>\n",
    "\n",
    "<br/><br/>\n",
    "\n",
    "<font size=5 color=\"#ed145b\"><b> Inteligência Artificial e Machine Learning </b></font>\n",
    "\n",
    "- Gabriel Fellone, 82012\n",
    "- Leandro Rocha, 84378\n",
    "- Leticia Bora, 82071\n",
    "-Renan Miyamoto, 81348\n",
    "\n",
    "## Modelo de Aprendizado Supervisionado\n",
    "\n",
    "Fomos desafiados a criar um modelo de aprendizado supervisionado. Mas, afinal, o que é esse tal modelo?\n",
    "\n",
    "O <b>Aprendizado supervisionado</b> acontece quando os dados utilizados para treinar o algoritmo incluem a solução desejada. Incluem o rótulo, a resposta certa. Diferente do <i>aprendizado não supervisionado</i>, em que o algoritmo não tem esse rótulo. Neste caso ele aprende sem a resposta certa.\n",
    "\n",
    "Existe ainda o <i>aprendizado semi-supervisionado</i>, que tem a presença de alguns dados com rótulo e outros sem. E o <i>aprendizado por reforço</i>, em que o algoritmo interage com um ambiente dinâmico com feedbacks em termos de premiações e punições.\n",
    "\n",
    "Mas o nosso foco aqui é o aprendizado supervisionado para predição. Para predizer uma resposta certa.\n",
    "\n",
    "### Modelos Preditivos\n",
    "\n",
    "Existem dois grandes grupos de modelos preditivos: a classificação e a regressão.\n",
    "\n",
    "<b>Classificação</b> é quando a variável a ser predita é qualitativa. Ela separa classes. Busca um <i>conjunto de características</i> que formam determinada classe.\n",
    "\n",
    "<b>Regressão</b> é quando a variável a ser predita é quantitativa. Ela busca um valor específico. Um dado numérico específico.\n",
    "\n",
    "Para fazer essa NAC, nós optamos pelo modelo de <i>classificação</i>.\n",
    "\n",
    "Agora que entendemos o que é modelo de aprendizado supervisionado e modelos preditivos, vamos para a BASE DE DADOS.\n",
    "\n",
    "\n",
    "### Adult dataset\n",
    "\n",
    "O dataset que escolhemos foi o Adult, cuja finalidade é prever se a renda anual de uma pessoa é menor-igual ou maior do que US $50.000.\n",
    "\n",
    "As previsões são feitas com base em informações pessoais, como:\n",
    "\n",
    "- Idade\n",
    "- Grau de Escolaridade.\n",
    "- Estado Civil.\n",
    "- Ocupação Profissional.\n",
    "- Etnia.\n",
    "- Sexo.\n",
    "- País de Origem.\n",
    "- etc."
   ]
  },
  {
   "cell_type": "markdown",
   "metadata": {},
   "source": [
    "### Importando as bibliotecas\n",
    "\n",
    "Vamos começar importando as bibliotecas necessárias e acessando a nossa base de dados.\n",
    "\n",
    "Obs: para esse conjunto de dados, nós tivemos que utilizar bibliotecas que não vimos em aula."
   ]
  },
  {
   "cell_type": "code",
   "execution_count": 1,
   "metadata": {},
   "outputs": [],
   "source": [
    "import numpy as np\n",
    "import pandas as pd\n",
    "import matplotlib.pyplot as plt\n",
    "import seaborn as sns\n",
    "from scipy.stats import pointbiserialr, spearmanr\n",
    "from sklearn.feature_selection import SelectKBest\n",
    "from sklearn.model_selection import cross_val_score\n",
    "from sklearn.tree import DecisionTreeClassifier\n",
    "from sklearn.ensemble import RandomForestClassifier\n",
    "import sklearn.preprocessing as preprocessing\n",
    "\n",
    "pd.set_option(\"display.precision\", 3)\n",
    "pd.set_option(\"display.max_columns\",300)\n",
    "\n",
    "df = pd.read_csv(\"../data/adult.csv\", index_col=0)\n",
    "df.columns=['age','workclass','fnlwgt','education','education_num','marital_status','occupation','relationship','race','sex','capital_gain','capital_loss','hours_per_week','native_country','income']"
   ]
  },
  {
   "cell_type": "markdown",
   "metadata": {},
   "source": [
    "### Explorando o dataset\n",
    "\n",
    "Ao chamar a variável python df, podemos visualizar o nosso dataset. Vamos fazer isso usando o head, para vermos apenas os primeiros valores da base de dados."
   ]
  },
  {
   "cell_type": "code",
   "execution_count": 2,
   "metadata": {},
   "outputs": [
    {
     "data": {
      "text/html": [
       "<div>\n",
       "<style scoped>\n",
       "    .dataframe tbody tr th:only-of-type {\n",
       "        vertical-align: middle;\n",
       "    }\n",
       "\n",
       "    .dataframe tbody tr th {\n",
       "        vertical-align: top;\n",
       "    }\n",
       "\n",
       "    .dataframe thead th {\n",
       "        text-align: right;\n",
       "    }\n",
       "</style>\n",
       "<table border=\"1\" class=\"dataframe\">\n",
       "  <thead>\n",
       "    <tr style=\"text-align: right;\">\n",
       "      <th></th>\n",
       "      <th>age</th>\n",
       "      <th>workclass</th>\n",
       "      <th>fnlwgt</th>\n",
       "      <th>education</th>\n",
       "      <th>education_num</th>\n",
       "      <th>marital_status</th>\n",
       "      <th>occupation</th>\n",
       "      <th>relationship</th>\n",
       "      <th>race</th>\n",
       "      <th>sex</th>\n",
       "      <th>capital_gain</th>\n",
       "      <th>capital_loss</th>\n",
       "      <th>hours_per_week</th>\n",
       "      <th>native_country</th>\n",
       "      <th>income</th>\n",
       "    </tr>\n",
       "  </thead>\n",
       "  <tbody>\n",
       "    <tr>\n",
       "      <th>1</th>\n",
       "      <td>39</td>\n",
       "      <td>State-gov</td>\n",
       "      <td>77516</td>\n",
       "      <td>Bachelors</td>\n",
       "      <td>13</td>\n",
       "      <td>Never-married</td>\n",
       "      <td>Adm-clerical</td>\n",
       "      <td>Not-in-family</td>\n",
       "      <td>White</td>\n",
       "      <td>Male</td>\n",
       "      <td>2174</td>\n",
       "      <td>0</td>\n",
       "      <td>40</td>\n",
       "      <td>United-States</td>\n",
       "      <td>&lt;=50K</td>\n",
       "    </tr>\n",
       "    <tr>\n",
       "      <th>2</th>\n",
       "      <td>50</td>\n",
       "      <td>Self-emp-not-inc</td>\n",
       "      <td>83311</td>\n",
       "      <td>Bachelors</td>\n",
       "      <td>13</td>\n",
       "      <td>Married-civ-spouse</td>\n",
       "      <td>Exec-managerial</td>\n",
       "      <td>Husband</td>\n",
       "      <td>White</td>\n",
       "      <td>Male</td>\n",
       "      <td>0</td>\n",
       "      <td>0</td>\n",
       "      <td>13</td>\n",
       "      <td>United-States</td>\n",
       "      <td>&lt;=50K</td>\n",
       "    </tr>\n",
       "    <tr>\n",
       "      <th>3</th>\n",
       "      <td>38</td>\n",
       "      <td>Private</td>\n",
       "      <td>215646</td>\n",
       "      <td>HS-grad</td>\n",
       "      <td>9</td>\n",
       "      <td>Divorced</td>\n",
       "      <td>Handlers-cleaners</td>\n",
       "      <td>Not-in-family</td>\n",
       "      <td>White</td>\n",
       "      <td>Male</td>\n",
       "      <td>0</td>\n",
       "      <td>0</td>\n",
       "      <td>40</td>\n",
       "      <td>United-States</td>\n",
       "      <td>&lt;=50K</td>\n",
       "    </tr>\n",
       "    <tr>\n",
       "      <th>4</th>\n",
       "      <td>53</td>\n",
       "      <td>Private</td>\n",
       "      <td>234721</td>\n",
       "      <td>11th</td>\n",
       "      <td>7</td>\n",
       "      <td>Married-civ-spouse</td>\n",
       "      <td>Handlers-cleaners</td>\n",
       "      <td>Husband</td>\n",
       "      <td>Black</td>\n",
       "      <td>Male</td>\n",
       "      <td>0</td>\n",
       "      <td>0</td>\n",
       "      <td>40</td>\n",
       "      <td>United-States</td>\n",
       "      <td>&lt;=50K</td>\n",
       "    </tr>\n",
       "    <tr>\n",
       "      <th>5</th>\n",
       "      <td>28</td>\n",
       "      <td>Private</td>\n",
       "      <td>338409</td>\n",
       "      <td>Bachelors</td>\n",
       "      <td>13</td>\n",
       "      <td>Married-civ-spouse</td>\n",
       "      <td>Prof-specialty</td>\n",
       "      <td>Wife</td>\n",
       "      <td>Black</td>\n",
       "      <td>Female</td>\n",
       "      <td>0</td>\n",
       "      <td>0</td>\n",
       "      <td>40</td>\n",
       "      <td>Cuba</td>\n",
       "      <td>&lt;=50K</td>\n",
       "    </tr>\n",
       "  </tbody>\n",
       "</table>\n",
       "</div>"
      ],
      "text/plain": [
       "   age          workclass  fnlwgt   education  education_num  \\\n",
       "1   39          State-gov   77516   Bachelors             13   \n",
       "2   50   Self-emp-not-inc   83311   Bachelors             13   \n",
       "3   38            Private  215646     HS-grad              9   \n",
       "4   53            Private  234721        11th              7   \n",
       "5   28            Private  338409   Bachelors             13   \n",
       "\n",
       "        marital_status          occupation    relationship    race      sex  \\\n",
       "1        Never-married        Adm-clerical   Not-in-family   White     Male   \n",
       "2   Married-civ-spouse     Exec-managerial         Husband   White     Male   \n",
       "3             Divorced   Handlers-cleaners   Not-in-family   White     Male   \n",
       "4   Married-civ-spouse   Handlers-cleaners         Husband   Black     Male   \n",
       "5   Married-civ-spouse      Prof-specialty            Wife   Black   Female   \n",
       "\n",
       "   capital_gain  capital_loss  hours_per_week  native_country  income  \n",
       "1          2174             0              40   United-States   <=50K  \n",
       "2             0             0              13   United-States   <=50K  \n",
       "3             0             0              40   United-States   <=50K  \n",
       "4             0             0              40   United-States   <=50K  \n",
       "5             0             0              40            Cuba   <=50K  "
      ]
     },
     "execution_count": 2,
     "metadata": {},
     "output_type": "execute_result"
    }
   ],
   "source": [
    "df.head()"
   ]
  },
  {
   "cell_type": "markdown",
   "metadata": {},
   "source": [
    "A coluna <i>income</i> (a última da tabela) retorna a classe de cada indivíduo. Informando se ele possui renda menor ou maior do que 50 mil.\n",
    "\n",
    "Essa base de dados é composta por 32.561 elementos."
   ]
  },
  {
   "cell_type": "code",
   "execution_count": 3,
   "metadata": {},
   "outputs": [
    {
     "data": {
      "text/plain": [
       "32561"
      ]
     },
     "execution_count": 3,
     "metadata": {},
     "output_type": "execute_result"
    }
   ],
   "source": [
    "df.shape[0]"
   ]
  },
  {
   "cell_type": "markdown",
   "metadata": {},
   "source": [
    "Vamos dar uma olhada no <i>income</i> e ver quantas pessoas ganham menos que 50 mil e quantas ganham mais."
   ]
  },
  {
   "cell_type": "code",
   "execution_count": 4,
   "metadata": {},
   "outputs": [
    {
     "data": {
      "text/plain": [
       " <=50K    24720\n",
       " >50K      7841\n",
       "Name: income, dtype: int64"
      ]
     },
     "execution_count": 4,
     "metadata": {},
     "output_type": "execute_result"
    }
   ],
   "source": [
    "#chamando a variável income\n",
    "df[\"income\"].value_counts()"
   ]
  },
  {
   "cell_type": "markdown",
   "metadata": {},
   "source": [
    "O retorno que tivemos é que 24.720 pessoas da nossa base de dados possuem renda menor-igual a 50 mil, enquanto 7.841 pessoas têm uma renda superior a 50 mil.\n",
    "\n",
    "Se quisermos saber os valores percentuais desses números, podemos fazer assim:"
   ]
  },
  {
   "cell_type": "code",
   "execution_count": 5,
   "metadata": {},
   "outputs": [
    {
     "name": "stdout",
     "output_type": "stream",
     "text": [
      "Total de pessoas: 32561\n",
      "Percentual de pessoas com renda maior do que 50k: 24.08\n",
      "Percentual de pessoas com renda menor do que 50k: 75.92\n"
     ]
    }
   ],
   "source": [
    "todos = df.shape[0]\n",
    "maior = df[df['income'] == ' >50K'].shape[0]\n",
    "menorIgual = df[df['income'] == ' <=50K'].shape[0]\n",
    "\n",
    "maiorPercentual = (maior/todos)*100\n",
    "menorPercentual = (menorIgual/todos)*100\n",
    "\n",
    "print(\"Total de pessoas: {}\".format(todos))\n",
    "print(\"Percentual de pessoas com renda maior do que 50k: {:.2f}\".format(maiorPercentual))\n",
    "print(\"Percentual de pessoas com renda menor do que 50k: {:.2f}\".format(menorPercentual))"
   ]
  },
  {
   "cell_type": "markdown",
   "metadata": {},
   "source": [
    "Dos 32.561 indivíduos, 75,92% possuem renda inferior a 50 mil, enquanto 24,08% têm renda superior a 50 mil."
   ]
  },
  {
   "cell_type": "markdown",
   "metadata": {},
   "source": [
    "### Pré-Processamento\n",
    "\n",
    "O pré-processamento dos dados é uma etapa muito importante, pois é aqui que se dá o tratamento desejado nas variáveis antes de usá-las nos modelos. Existem várias técnicas de processamento dos dados, como:\n",
    "\n",
    "- Seleção das variáveis\n",
    "- Vazamento de dados\n",
    "- Padronização\n",
    "- Redução de Dimensão\n",
    "- Colinearidade\n",
    "- Valores Missing\n",
    "- One-hot encoding\n",
    "\n",
    "A base de dados que estamos utilizando, que baixamos do UCI, veio com alguns valores faltando. Então vamos tratar esses missings. "
   ]
  },
  {
   "cell_type": "code",
   "execution_count": 6,
   "metadata": {},
   "outputs": [
    {
     "name": "stdout",
     "output_type": "stream",
     "text": [
      "workclass\n",
      "1836\n",
      "5.64%\n",
      "occupation\n",
      "1843\n",
      "5.66%\n",
      "native_country\n",
      "583\n",
      "1.79%\n"
     ]
    }
   ],
   "source": [
    "nomeColuna = df.columns\n",
    "numDados = df.shape[0]\n",
    "for c in nomeColuna:\n",
    "    numNon = df[c].isin([\" ?\"]).sum()\n",
    "    if numNon > 0:\n",
    "        print (c)\n",
    "        print (numNon)\n",
    "        print (\"{0:.2f}%\".format(float(numNon) / numDados * 100))"
   ]
  },
  {
   "cell_type": "code",
   "execution_count": 7,
   "metadata": {
    "scrolled": true
   },
   "outputs": [
    {
     "data": {
      "text/plain": [
       "(30162, 15)"
      ]
     },
     "execution_count": 7,
     "metadata": {},
     "output_type": "execute_result"
    }
   ],
   "source": [
    "df = df[df[\"workclass\"] != \" ?\"]\n",
    "df = df[df[\"occupation\"] != \" ?\"]\n",
    "df = df[df[\"native_country\"] != \" ?\"]\n",
    "df.shape"
   ]
  },
  {
   "cell_type": "markdown",
   "metadata": {},
   "source": [
    "Um pré-processamento FUNDAMENTAL para esse dataset é a transformação de classes em dados numéricos. Machine Learning só reconhece números, logo os campos em formato de texto precisam ser convertidos em números.\n",
    "\n",
    "Essa etapa de pré-processamento foi a que mais nos deu dor de cabeça, a que mais arrancou lágrimas dos nossos olhos. Essa foi uma daquelas etapas que nos fizeram questionar as escolhas que fizemos na vida (risos). Isso porque existem várias e várias formas de tratar essa questão, e nós, que estamos sendo introduzidos no assunto, ficamos perdidos em meio a TANTA informação.\n",
    "\n",
    "Nós não conseguimos saber, por exemplo, se para o nosso caso One-Hot Encoding é melhor do que Label Encoding. Fizemos o maior esforço para <b>tentar</b> ENTENDER esses conceitos. Aqui nós descobrimos que o pré-processamento pode ser considerado a principal etapa do projeto. Pois as possibilidades são MUITAS. E tudo depende da finalidade para a qual o dataset será utilizado.\n",
    "\n",
    "Se fizemos o maior esforço para tentar entender, imagine para tentar aplicar. . .\n",
    "\n",
    "Encontramos uma solução com one-hot encoder. Ela não é nada prática, pois tivemos que inserir cada valor de texto do nosso dataset, na unha. Mas foi a primeira forma que vimos que funcionaria pra gente..."
   ]
  },
  {
   "cell_type": "code",
   "execution_count": 8,
   "metadata": {},
   "outputs": [
    {
     "data": {
      "text/plain": [
       "array([[1., 0., 1., 0., 1., 0.],\n",
       "       [0., 1., 0., 1., 0., 1.]])"
      ]
     },
     "execution_count": 8,
     "metadata": {},
     "output_type": "execute_result"
    }
   ],
   "source": [
    "#importando one-hot encoder e implementando sua funcionalidade\n",
    "from sklearn.preprocessing import OneHotEncoder\n",
    "\n",
    "enc = OneHotEncoder(handle_unknown='ignore')\n",
    "X = [['Private', 'Bachelors', 'United-States'], ['Local-gov', 'Masters', 'Canada']]\n",
    "enc.fit(X)\n",
    "\n",
    "#aqui nós passamos apenas alguns valores e tranformamos em lista\n",
    "enc.transform([['Local-gov', 'Bachelors', 'Canada'],\n",
    "                ['Private', 'Masters', 'United-States']]).toarray()"
   ]
  },
  {
   "cell_type": "code",
   "execution_count": 9,
   "metadata": {},
   "outputs": [
    {
     "data": {
      "text/plain": [
       "OneHotEncoder(categories=[[' Federal-gov', ' Local-gov', ' Never-worked',\n",
       "                           ' Private', ' Self-emp-inc', ' Self-emp-not-inc',\n",
       "                           ' State-gov', ' Without-pay'],\n",
       "                          [' Assoc-acdm', ' Assoc-voc', ' Bachelors',\n",
       "                           ' Doctorate', ' HS-grad', ' Masters', ' Preschool',\n",
       "                           ' Prof-school', ' Some-college'],\n",
       "                          [' Divorced', ' Married-AF-spouse',\n",
       "                           ' Married-civ-spouse', ' Married-spouse-absent',\n",
       "                           ' Never-married', ' Separ...\n",
       "                           ' Cuba', ' Dominican-Republic', ' Ecuador',\n",
       "                           ' El-Salvador', ' England', ' France', ' Germany',\n",
       "                           ' Greece', ' Guatemala', ' Haiti',\n",
       "                           ' Holand-Netherland', ' Honduras', ' Hong',\n",
       "                           ' Hungary', ' India', ' Iran', ' Ireland', ' Italy',\n",
       "                           ' Jamaica', ' Japan', ' Laos', ' Mexico',\n",
       "                           ' Nicaragua', ' Outlying-US(Guam-USVI-etc)', ' Peru',\n",
       "                           ' Philippines', ...]],\n",
       "              drop=None, dtype=<class 'numpy.float64'>, handle_unknown='error',\n",
       "              sparse=True)"
      ]
     },
     "execution_count": 9,
     "metadata": {},
     "output_type": "execute_result"
    }
   ],
   "source": [
    "#e aqui passamos todos os textos da nossa base de dados, de todas as categorias\n",
    "\n",
    "workclass = [' Federal-gov',' Local-gov',' Never-worked',' Private',' Self-emp-inc',\n",
    "             ' Self-emp-not-inc',' State-gov',' Without-pay']\n",
    "education = [' Assoc-acdm',' Assoc-voc',' Bachelors',' Doctorate',' HS-grad',\n",
    "             ' Masters',' Preschool',' Prof-school',' Some-college']\n",
    "marital_status = [' Divorced',' Married-AF-spouse',' Married-civ-spouse',\n",
    "                  ' Married-spouse-absent',' Never-married',' Separated',' Widowed']\n",
    "occupation = [' Adm-clerical',' Armed-Forces',' Craft-repair',' Exec-managerial',' Farming-fishing',\n",
    "              ' Handlers-cleaners',' Machine-op-inspct',' Other-service',' Priv-house-serv',' Prof-specialty',\n",
    "              ' Protective-serv',' Sales',' Tech-support',' Transport-moving']\n",
    "relationship = [' Husband',' Not-in-family',' Other-relative',' Own-child',' Unmarried',' Wife']\n",
    "race = [' Amer-Indian-Eskimo',' Asian-Pac-Islander',' Black',' Other',' White']\n",
    "sex = [' Female',' Male']\n",
    "native_country = [' Cambodia',' Canada',' China',' Columbia',' Cuba',' Dominican-Republic',\n",
    "                  ' Ecuador',' El-Salvador',' England',' France',' Germany',' Greece',' Guatemala',' Haiti',\n",
    "                  ' Holand-Netherland',' Honduras',' Hong',' Hungary',' India',' Iran',' Ireland',' Italy',\n",
    "                  ' Jamaica',' Japan',' Laos',' Mexico',' Nicaragua',' Outlying-US(Guam-USVI-etc)',' Peru',\n",
    "                  ' Philippines',' Poland',' Portugal',' Puerto-Rico',' Scotland',' South',' Taiwan',' Thailand',\n",
    "                  ' Trinadad&Tobago',' United-States',' Vietnam',' Yugoslavia']\n",
    "\n",
    "enc = OneHotEncoder(categories=[workclass, education, marital_status, occupation, \n",
    "                                              relationship, race,sex,native_country])\n",
    "x = [[' Federal-gov',' Assoc-acdm',' Married-civ-spouse', ' Adm-clerical',' Husband',' Asian-Pac-Islander',' Male',' China'],\n",
    "     [' Federal-gov',' Doctorate',' Married-civ-spouse', ' Adm-clerical',' Wife',' Black',' Female',' United-States']]\n",
    "\n",
    "enc.fit(x)"
   ]
  },
  {
   "cell_type": "code",
   "execution_count": 10,
   "metadata": {},
   "outputs": [
    {
     "data": {
      "text/plain": [
       "array([[1., 0., 0., 0., 0., 0., 0., 0., 0., 0., 0., 1., 0., 0., 0., 0.,\n",
       "        0., 0., 0., 1., 0., 0., 0., 0., 1., 0., 0., 0., 0., 0., 0., 0.,\n",
       "        0., 0., 0., 0., 0., 0., 0., 0., 0., 0., 0., 1., 0., 0., 1., 0.,\n",
       "        0., 1., 0., 0., 0., 0., 0., 0., 0., 0., 0., 0., 0., 0., 0., 0.,\n",
       "        0., 0., 0., 0., 0., 0., 0., 0., 0., 0., 0., 0., 0., 0., 0., 0.,\n",
       "        0., 0., 0., 0., 0., 0., 0., 0., 0., 1., 0., 0.]])"
      ]
     },
     "execution_count": 10,
     "metadata": {},
     "output_type": "execute_result"
    }
   ],
   "source": [
    "#agora podemos manipular qualquer string do nosso dataset como um dado numérico\n",
    "enc.transform([[' Federal-gov',' Doctorate',' Married-civ-spouse', \n",
    "                ' Adm-clerical',' Wife',' Black',' Female',' United-States']]).toarray()"
   ]
  },
  {
   "cell_type": "code",
   "execution_count": 11,
   "metadata": {},
   "outputs": [
    {
     "data": {
      "text/plain": [
       "[array([' Federal-gov', ' Local-gov', ' Never-worked', ' Private',\n",
       "        ' Self-emp-inc', ' Self-emp-not-inc', ' State-gov', ' Without-pay'],\n",
       "       dtype=object),\n",
       " array([' Assoc-acdm', ' Assoc-voc', ' Bachelors', ' Doctorate',\n",
       "        ' HS-grad', ' Masters', ' Preschool', ' Prof-school',\n",
       "        ' Some-college'], dtype=object),\n",
       " array([' Divorced', ' Married-AF-spouse', ' Married-civ-spouse',\n",
       "        ' Married-spouse-absent', ' Never-married', ' Separated',\n",
       "        ' Widowed'], dtype=object),\n",
       " array([' Adm-clerical', ' Armed-Forces', ' Craft-repair',\n",
       "        ' Exec-managerial', ' Farming-fishing', ' Handlers-cleaners',\n",
       "        ' Machine-op-inspct', ' Other-service', ' Priv-house-serv',\n",
       "        ' Prof-specialty', ' Protective-serv', ' Sales', ' Tech-support',\n",
       "        ' Transport-moving'], dtype=object),\n",
       " array([' Husband', ' Not-in-family', ' Other-relative', ' Own-child',\n",
       "        ' Unmarried', ' Wife'], dtype=object),\n",
       " array([' Amer-Indian-Eskimo', ' Asian-Pac-Islander', ' Black', ' Other',\n",
       "        ' White'], dtype=object),\n",
       " array([' Female', ' Male'], dtype=object),\n",
       " array([' Cambodia', ' Canada', ' China', ' Columbia', ' Cuba',\n",
       "        ' Dominican-Republic', ' Ecuador', ' El-Salvador', ' England',\n",
       "        ' France', ' Germany', ' Greece', ' Guatemala', ' Haiti',\n",
       "        ' Holand-Netherland', ' Honduras', ' Hong', ' Hungary', ' India',\n",
       "        ' Iran', ' Ireland', ' Italy', ' Jamaica', ' Japan', ' Laos',\n",
       "        ' Mexico', ' Nicaragua', ' Outlying-US(Guam-USVI-etc)', ' Peru',\n",
       "        ' Philippines', ' Poland', ' Portugal', ' Puerto-Rico',\n",
       "        ' Scotland', ' South', ' Taiwan', ' Thailand', ' Trinadad&Tobago',\n",
       "        ' United-States', ' Vietnam', ' Yugoslavia'], dtype=object)]"
      ]
     },
     "execution_count": 11,
     "metadata": {},
     "output_type": "execute_result"
    }
   ],
   "source": [
    "#Se chamarmos o método categories_ de one-hot encoder, ele vai retornar todas as categorias que passamos\n",
    "enc.categories_"
   ]
  },
  {
   "cell_type": "markdown",
   "metadata": {},
   "source": [
    "Depois de todo esse sacrifício, nós nos deparamos com soluções MUITO mais simples e práticas na internet. Como esta bonitinha aqui:"
   ]
  },
  {
   "cell_type": "code",
   "execution_count": 12,
   "metadata": {},
   "outputs": [
    {
     "data": {
      "image/png": "[encoded data removed]",
      "text/plain": [
       "<Figure size 432x288 with 2 Axes>"
      ]
     },
     "metadata": {},
     "output_type": "display_data"
    },
    {
     "data": {
      "text/html": [
       "<div>\n",
       "<style scoped>\n",
       "    .dataframe tbody tr th:only-of-type {\n",
       "        vertical-align: middle;\n",
       "    }\n",
       "\n",
       "    .dataframe tbody tr th {\n",
       "        vertical-align: top;\n",
       "    }\n",
       "\n",
       "    .dataframe thead th {\n",
       "        text-align: right;\n",
       "    }\n",
       "</style>\n",
       "<table border=\"1\" class=\"dataframe\">\n",
       "  <thead>\n",
       "    <tr style=\"text-align: right;\">\n",
       "      <th></th>\n",
       "      <th>age</th>\n",
       "      <th>workclass</th>\n",
       "      <th>fnlwgt</th>\n",
       "      <th>education</th>\n",
       "      <th>education_num</th>\n",
       "      <th>marital_status</th>\n",
       "      <th>occupation</th>\n",
       "      <th>relationship</th>\n",
       "      <th>race</th>\n",
       "      <th>sex</th>\n",
       "      <th>capital_gain</th>\n",
       "      <th>capital_loss</th>\n",
       "      <th>hours_per_week</th>\n",
       "      <th>native_country</th>\n",
       "      <th>income</th>\n",
       "    </tr>\n",
       "  </thead>\n",
       "  <tbody>\n",
       "    <tr>\n",
       "      <th>32557</th>\n",
       "      <td>27</td>\n",
       "      <td>2</td>\n",
       "      <td>257302</td>\n",
       "      <td>7</td>\n",
       "      <td>12</td>\n",
       "      <td>2</td>\n",
       "      <td>12</td>\n",
       "      <td>5</td>\n",
       "      <td>4</td>\n",
       "      <td>0</td>\n",
       "      <td>0</td>\n",
       "      <td>0</td>\n",
       "      <td>38</td>\n",
       "      <td>38</td>\n",
       "      <td>0</td>\n",
       "    </tr>\n",
       "    <tr>\n",
       "      <th>32558</th>\n",
       "      <td>40</td>\n",
       "      <td>2</td>\n",
       "      <td>154374</td>\n",
       "      <td>11</td>\n",
       "      <td>9</td>\n",
       "      <td>2</td>\n",
       "      <td>6</td>\n",
       "      <td>0</td>\n",
       "      <td>4</td>\n",
       "      <td>1</td>\n",
       "      <td>0</td>\n",
       "      <td>0</td>\n",
       "      <td>40</td>\n",
       "      <td>38</td>\n",
       "      <td>1</td>\n",
       "    </tr>\n",
       "    <tr>\n",
       "      <th>32559</th>\n",
       "      <td>58</td>\n",
       "      <td>2</td>\n",
       "      <td>151910</td>\n",
       "      <td>11</td>\n",
       "      <td>9</td>\n",
       "      <td>6</td>\n",
       "      <td>0</td>\n",
       "      <td>4</td>\n",
       "      <td>4</td>\n",
       "      <td>0</td>\n",
       "      <td>0</td>\n",
       "      <td>0</td>\n",
       "      <td>40</td>\n",
       "      <td>38</td>\n",
       "      <td>0</td>\n",
       "    </tr>\n",
       "    <tr>\n",
       "      <th>32560</th>\n",
       "      <td>22</td>\n",
       "      <td>2</td>\n",
       "      <td>201490</td>\n",
       "      <td>11</td>\n",
       "      <td>9</td>\n",
       "      <td>4</td>\n",
       "      <td>0</td>\n",
       "      <td>3</td>\n",
       "      <td>4</td>\n",
       "      <td>1</td>\n",
       "      <td>0</td>\n",
       "      <td>0</td>\n",
       "      <td>20</td>\n",
       "      <td>38</td>\n",
       "      <td>0</td>\n",
       "    </tr>\n",
       "    <tr>\n",
       "      <th>32561</th>\n",
       "      <td>52</td>\n",
       "      <td>3</td>\n",
       "      <td>287927</td>\n",
       "      <td>11</td>\n",
       "      <td>9</td>\n",
       "      <td>2</td>\n",
       "      <td>3</td>\n",
       "      <td>5</td>\n",
       "      <td>4</td>\n",
       "      <td>0</td>\n",
       "      <td>15024</td>\n",
       "      <td>0</td>\n",
       "      <td>40</td>\n",
       "      <td>38</td>\n",
       "      <td>1</td>\n",
       "    </tr>\n",
       "  </tbody>\n",
       "</table>\n",
       "</div>"
      ],
      "text/plain": [
       "       age  workclass  fnlwgt  education  education_num  marital_status  \\\n",
       "32557   27          2  257302          7             12               2   \n",
       "32558   40          2  154374         11              9               2   \n",
       "32559   58          2  151910         11              9               6   \n",
       "32560   22          2  201490         11              9               4   \n",
       "32561   52          3  287927         11              9               2   \n",
       "\n",
       "       occupation  relationship  race  sex  capital_gain  capital_loss  \\\n",
       "32557          12             5     4    0             0             0   \n",
       "32558           6             0     4    1             0             0   \n",
       "32559           0             4     4    0             0             0   \n",
       "32560           0             3     4    1             0             0   \n",
       "32561           3             5     4    0         15024             0   \n",
       "\n",
       "       hours_per_week  native_country  income  \n",
       "32557              38              38       0  \n",
       "32558              40              38       1  \n",
       "32559              40              38       0  \n",
       "32560              20              38       0  \n",
       "32561              40              38       1  "
      ]
     },
     "execution_count": 12,
     "metadata": {},
     "output_type": "execute_result"
    }
   ],
   "source": [
    "# Encode the categorical features as numbers\n",
    "def number_encode_features(df):\n",
    "    result = df.copy()\n",
    "    encoders = {}\n",
    "    for column in result.columns:\n",
    "        if result.dtypes[column] == np.object:\n",
    "            encoders[column] = preprocessing.LabelEncoder()\n",
    "            result[column] = encoders[column].fit_transform(result[column])\n",
    "    return result, encoders\n",
    "\n",
    "\n",
    "# Calculate the correlation and plot it\n",
    "encoded_data, _ = number_encode_features(df)\n",
    "sns.heatmap(encoded_data.corr(), square=True)\n",
    "plt.show()\n",
    "\n",
    "encoded_data.tail(5)"
   ]
  },
  {
   "cell_type": "markdown",
   "metadata": {},
   "source": [
    "### Treinamento do modelo de classificação"
   ]
  },
  {
   "cell_type": "code",
   "execution_count": 13,
   "metadata": {},
   "outputs": [
    {
     "name": "stdout",
     "output_type": "stream",
     "text": [
      "O conjunto de treinamento tem 24129 amostras.\n",
      "O conjunto de testes tem 6033 amostras.\n"
     ]
    }
   ],
   "source": [
    "from sklearn.model_selection import train_test_split\n",
    "\n",
    "#transformando o retorno em 0 quando income for <=50K e 1 quando for >50K\n",
    "df['income'] = [0 if x == ' <=50K' else 1 for x in df['income']]\n",
    "\n",
    "#dividindo x e y\n",
    "x = df.drop('income', 1)\n",
    "y = df.income\n",
    "\n",
    "# Dividindo dados para treino e dados para teste\n",
    "x_train, x_test, y_train, y_test = train_test_split(x, y, \n",
    "                                                    test_size = 0.2, \n",
    "                                                    random_state = 0)\n",
    "\n",
    "#imprimindo o número de dados em cada conjunto\n",
    "print(\"O conjunto de treinamento tem {} amostras.\".format(x_train.shape[0]))\n",
    "print(\"O conjunto de testes tem {} amostras.\".format(x_test.shape[0]))"
   ]
  },
  {
   "cell_type": "markdown",
   "metadata": {},
   "source": [
    "<b>Agora, finalmente, vamos treinar o modelo e fazer as predições:</b>"
   ]
  },
  {
   "cell_type": "code",
   "execution_count": 14,
   "metadata": {},
   "outputs": [
    {
     "ename": "ValueError",
     "evalue": "could not convert string to float: ' United-States'",
     "output_type": "error",
     "traceback": [
      "\u001b[0;31m---------------------------------------------------------------------------\u001b[0m",
      "\u001b[0;31mValueError\u001b[0m                                Traceback (most recent call last)",
      "\u001b[0;32m<ipython-input-14-f55e26c6ef76>\u001b[0m in \u001b[0;36m<module>\u001b[0;34m()\u001b[0m\n\u001b[1;32m      2\u001b[0m \u001b[0;34m\u001b[0m\u001b[0m\n\u001b[1;32m      3\u001b[0m \u001b[0;31m# Treinando o modelo\u001b[0m\u001b[0;34m\u001b[0m\u001b[0;34m\u001b[0m\u001b[0;34m\u001b[0m\u001b[0m\n\u001b[0;32m----> 4\u001b[0;31m \u001b[0mmodel\u001b[0m \u001b[0;34m=\u001b[0m \u001b[0mLogisticRegression\u001b[0m\u001b[0;34m(\u001b[0m\u001b[0msolver\u001b[0m\u001b[0;34m=\u001b[0m\u001b[0;34m'newton-cg'\u001b[0m\u001b[0;34m)\u001b[0m\u001b[0;34m.\u001b[0m\u001b[0mfit\u001b[0m\u001b[0;34m(\u001b[0m\u001b[0mx_train\u001b[0m\u001b[0;34m,\u001b[0m \u001b[0my_train\u001b[0m\u001b[0;34m)\u001b[0m\u001b[0;34m\u001b[0m\u001b[0;34m\u001b[0m\u001b[0m\n\u001b[0m\u001b[1;32m      5\u001b[0m \u001b[0;34m\u001b[0m\u001b[0m\n\u001b[1;32m      6\u001b[0m \u001b[0;31m# Fazendo as predições\u001b[0m\u001b[0;34m\u001b[0m\u001b[0;34m\u001b[0m\u001b[0;34m\u001b[0m\u001b[0m\n",
      "\u001b[0;32m~/anaconda3/lib/python3.6/site-packages/sklearn/linear_model/_logistic.py\u001b[0m in \u001b[0;36mfit\u001b[0;34m(self, X, y, sample_weight)\u001b[0m\n\u001b[1;32m   1525\u001b[0m \u001b[0;34m\u001b[0m\u001b[0m\n\u001b[1;32m   1526\u001b[0m         X, y = check_X_y(X, y, accept_sparse='csr', dtype=_dtype, order=\"C\",\n\u001b[0;32m-> 1527\u001b[0;31m                          accept_large_sparse=solver != 'liblinear')\n\u001b[0m\u001b[1;32m   1528\u001b[0m         \u001b[0mcheck_classification_targets\u001b[0m\u001b[0;34m(\u001b[0m\u001b[0my\u001b[0m\u001b[0;34m)\u001b[0m\u001b[0;34m\u001b[0m\u001b[0;34m\u001b[0m\u001b[0m\n\u001b[1;32m   1529\u001b[0m         \u001b[0mself\u001b[0m\u001b[0;34m.\u001b[0m\u001b[0mclasses_\u001b[0m \u001b[0;34m=\u001b[0m \u001b[0mnp\u001b[0m\u001b[0;34m.\u001b[0m\u001b[0munique\u001b[0m\u001b[0;34m(\u001b[0m\u001b[0my\u001b[0m\u001b[0;34m)\u001b[0m\u001b[0;34m\u001b[0m\u001b[0;34m\u001b[0m\u001b[0m\n",
      "\u001b[0;32m~/anaconda3/lib/python3.6/site-packages/sklearn/utils/validation.py\u001b[0m in \u001b[0;36mcheck_X_y\u001b[0;34m(X, y, accept_sparse, accept_large_sparse, dtype, order, copy, force_all_finite, ensure_2d, allow_nd, multi_output, ensure_min_samples, ensure_min_features, y_numeric, warn_on_dtype, estimator)\u001b[0m\n\u001b[1;32m    753\u001b[0m                     \u001b[0mensure_min_features\u001b[0m\u001b[0;34m=\u001b[0m\u001b[0mensure_min_features\u001b[0m\u001b[0;34m,\u001b[0m\u001b[0;34m\u001b[0m\u001b[0;34m\u001b[0m\u001b[0m\n\u001b[1;32m    754\u001b[0m                     \u001b[0mwarn_on_dtype\u001b[0m\u001b[0;34m=\u001b[0m\u001b[0mwarn_on_dtype\u001b[0m\u001b[0;34m,\u001b[0m\u001b[0;34m\u001b[0m\u001b[0;34m\u001b[0m\u001b[0m\n\u001b[0;32m--> 755\u001b[0;31m                     estimator=estimator)\n\u001b[0m\u001b[1;32m    756\u001b[0m     \u001b[0;32mif\u001b[0m \u001b[0mmulti_output\u001b[0m\u001b[0;34m:\u001b[0m\u001b[0;34m\u001b[0m\u001b[0;34m\u001b[0m\u001b[0m\n\u001b[1;32m    757\u001b[0m         y = check_array(y, 'csr', force_all_finite=True, ensure_2d=False,\n",
      "\u001b[0;32m~/anaconda3/lib/python3.6/site-packages/sklearn/utils/validation.py\u001b[0m in \u001b[0;36mcheck_array\u001b[0;34m(array, accept_sparse, accept_large_sparse, dtype, order, copy, force_all_finite, ensure_2d, allow_nd, ensure_min_samples, ensure_min_features, warn_on_dtype, estimator)\u001b[0m\n\u001b[1;32m    529\u001b[0m                     \u001b[0marray\u001b[0m \u001b[0;34m=\u001b[0m \u001b[0marray\u001b[0m\u001b[0;34m.\u001b[0m\u001b[0mastype\u001b[0m\u001b[0;34m(\u001b[0m\u001b[0mdtype\u001b[0m\u001b[0;34m,\u001b[0m \u001b[0mcasting\u001b[0m\u001b[0;34m=\u001b[0m\u001b[0;34m\"unsafe\"\u001b[0m\u001b[0;34m,\u001b[0m \u001b[0mcopy\u001b[0m\u001b[0;34m=\u001b[0m\u001b[0;32mFalse\u001b[0m\u001b[0;34m)\u001b[0m\u001b[0;34m\u001b[0m\u001b[0;34m\u001b[0m\u001b[0m\n\u001b[1;32m    530\u001b[0m                 \u001b[0;32melse\u001b[0m\u001b[0;34m:\u001b[0m\u001b[0;34m\u001b[0m\u001b[0;34m\u001b[0m\u001b[0m\n\u001b[0;32m--> 531\u001b[0;31m                     \u001b[0marray\u001b[0m \u001b[0;34m=\u001b[0m \u001b[0mnp\u001b[0m\u001b[0;34m.\u001b[0m\u001b[0masarray\u001b[0m\u001b[0;34m(\u001b[0m\u001b[0marray\u001b[0m\u001b[0;34m,\u001b[0m \u001b[0morder\u001b[0m\u001b[0;34m=\u001b[0m\u001b[0morder\u001b[0m\u001b[0;34m,\u001b[0m \u001b[0mdtype\u001b[0m\u001b[0;34m=\u001b[0m\u001b[0mdtype\u001b[0m\u001b[0;34m)\u001b[0m\u001b[0;34m\u001b[0m\u001b[0;34m\u001b[0m\u001b[0m\n\u001b[0m\u001b[1;32m    532\u001b[0m             \u001b[0;32mexcept\u001b[0m \u001b[0mComplexWarning\u001b[0m\u001b[0;34m:\u001b[0m\u001b[0;34m\u001b[0m\u001b[0;34m\u001b[0m\u001b[0m\n\u001b[1;32m    533\u001b[0m                 raise ValueError(\"Complex data not supported\\n\"\n",
      "\u001b[0;32m~/anaconda3/lib/python3.6/site-packages/numpy/core/numeric.py\u001b[0m in \u001b[0;36masarray\u001b[0;34m(a, dtype, order)\u001b[0m\n\u001b[1;32m    490\u001b[0m \u001b[0;34m\u001b[0m\u001b[0m\n\u001b[1;32m    491\u001b[0m     \"\"\"\n\u001b[0;32m--> 492\u001b[0;31m     \u001b[0;32mreturn\u001b[0m \u001b[0marray\u001b[0m\u001b[0;34m(\u001b[0m\u001b[0ma\u001b[0m\u001b[0;34m,\u001b[0m \u001b[0mdtype\u001b[0m\u001b[0;34m,\u001b[0m \u001b[0mcopy\u001b[0m\u001b[0;34m=\u001b[0m\u001b[0;32mFalse\u001b[0m\u001b[0;34m,\u001b[0m \u001b[0morder\u001b[0m\u001b[0;34m=\u001b[0m\u001b[0morder\u001b[0m\u001b[0;34m)\u001b[0m\u001b[0;34m\u001b[0m\u001b[0;34m\u001b[0m\u001b[0m\n\u001b[0m\u001b[1;32m    493\u001b[0m \u001b[0;34m\u001b[0m\u001b[0m\n\u001b[1;32m    494\u001b[0m \u001b[0;34m\u001b[0m\u001b[0m\n",
      "\u001b[0;31mValueError\u001b[0m: could not convert string to float: ' United-States'"
     ]
    }
   ],
   "source": [
    "from sklearn.linear_model import LogisticRegression\n",
    "\n",
    "# Treinando o modelo\n",
    "model = LogisticRegression(solver='newton-cg').fit(x_train, y_train)\n",
    "\n",
    "# Fazendo as predições\n",
    "y_pred = model.predict(x_test)"
   ]
  },
  {
   "cell_type": "markdown",
   "metadata": {},
   "source": [
    "### Onde o filho chora e a mãe não vê\n",
    "\n",
    "Esse erro tem sido o nosso pesadelo. Nós não conseguimos implementar uma solução. Tentamos de tudo.\n",
    "\n",
    "Por esse notebook já passaram diversas técnicas de pré-processamento. Nós tentamos label encoding, tentamos MinMaxScaler, to_numeric, DIVERSAS formas de one-hot encoding. Mas nada resolveu esse problema. Todas as vezes que chegamos aqui, o retorno foi o mesmo <i>ValueError: could not convert string to float: ' United-States'</i>.\n",
    "\n",
    "Isso nos deixou extremamente frustrados. . . Horas e horas de pesquisas e estudos, e não conseguimos solucionar isso dentro do prazo de entrega do trabalho.\n",
    "\n",
    "O ponto positivo é que esse erro nos forçou a estudar como nunca, e graças a isso entendemos melhor os conceitos envolvidos aqui."
   ]
  },
  {
   "cell_type": "markdown",
   "metadata": {},
   "source": [
    "## Avaliação de Desempenho\n",
    "\n",
    "A avaliação de desempenho é feita a partir de quatro resultados: verdadeiro positivo, falso positivo, verdadeiro negativo e falso negativo.\n",
    "\n",
    "### Acurácia\n",
    "A acurácia representa a fração de previsões corretas feitas no conjunto de testes. Para fazer o cálculo, basta dividir o número de acertos pelo número total de amostras.\n",
    "\n",
    "### Precisão\n",
    "A precisão informa, dentre todos os indivíduos que o modelo previu, quantos realmente pertencem ao grupo.\n",
    "\n",
    "### Recall\n",
    "O recall informa quantos indivíduos o modelo conseguiu \"recuperar\" de todos que deveriam ter sido previstos.\n",
    "\n",
    "Devido às nossas limitações por não termos conseguido fazer o pré-processamento adequado e estarmos com erro no notebook, não conseguiremos fazer a nossa avaliação de desempenho. Mas seria algo mais ou menos assim:"
   ]
  },
  {
   "cell_type": "code",
   "execution_count": 15,
   "metadata": {},
   "outputs": [],
   "source": [
    "verdadeiroPositivo = np.sum(y)\n",
    "falsoPositivo = y.count() - verdadeiroPositivo\n",
    "verdadeiroNegativo = 0\n",
    "falsoNegativo = 0\n",
    "\n",
    "acuracia = (verdadeiroPositivo + verdadeiroNegativo) / (verdadeiroPositivo + falsoPositivo + verdadeiroNegativo + falsoNegativo)\n",
    "recall = verdadeiroPositivo / (verdadeiroPositivo + falsoNegativo)\n",
    "precisao = verdadeiroPositivo / (verdadeiroPositivo + falsoPositivo)"
   ]
  }
 ],
 "metadata": {
  "kernelspec": {
   "display_name": "Python 3",
   "language": "python",
   "name": "python3"
  },
  "language_info": {
   "codemirror_mode": {
    "name": "ipython",
    "version": 3
   },
   "file_extension": ".py",
   "mimetype": "text/x-python",
   "name": "python",
   "nbconvert_exporter": "python",
   "pygments_lexer": "ipython3",
   "version": "3.6.10"
  }
 },
 "nbformat": 4,
 "nbformat_minor": 2
}
